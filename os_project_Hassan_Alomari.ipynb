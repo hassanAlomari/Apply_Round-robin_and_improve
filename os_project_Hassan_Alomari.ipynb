{
 "cells": [
  {
   "cell_type": "code",
   "execution_count": 6,
   "id": "0623bf41-4044-4207-ae42-44b9c6663360",
   "metadata": {},
   "outputs": [],
   "source": [
    "def waiting_time(remBt,q,waitTime,comletTime,p,g):\n",
    "    rBt = remBt.copy()\n",
    "    time = 0\n",
    "    while(True):\n",
    "        final = True\n",
    "        for i in range(len(remBt)):\n",
    "            if remBt[i] > 0:\n",
    "                if remBt[i]>q:    \n",
    "                    final = False\n",
    "                    time+=q\n",
    "                    remBt[i]-=q\n",
    "                    g.append(p[i])\n",
    "                else:\n",
    "                    time+=remBt[i]\n",
    "                    comletTime[i]=time\n",
    "                    wt[i] = time - rBt[i]\n",
    "                    remBt[i] = 0\n",
    "                    g.append(p[i])\n",
    "        if final==True:\n",
    "            break"
   ]
  },
  {
   "cell_type": "code",
   "execution_count": 8,
   "id": "0a8c94ff-57da-46a9-864d-64cf3819c450",
   "metadata": {},
   "outputs": [],
   "source": [
    "def turnarounTime(wt,remBt,tAroundT):\n",
    "    for i in range(len(remBt)):\n",
    "        tAroundT[i]=wt[i]+remBt[i]"
   ]
  },
  {
   "cell_type": "code",
   "execution_count": null,
   "id": "8666c5a5-e487-411f-818e-bfbd3a291e65",
   "metadata": {},
   "outputs": [],
   "source": [
    "# calculate avg wt and  aturnaround tim and cumpleation"
   ]
  },
  {
   "cell_type": "code",
   "execution_count": 10,
   "id": "6266dc49-91c5-4e34-82f9-deb190bc7530",
   "metadata": {},
   "outputs": [],
   "source": [
    "def avg(remBt,q,wt,process):\n",
    "    completTime = [0]*len(remBt)\n",
    "    tAroundT = [0]*len(remBt)\n",
    "    dt = remBt.copy()\n",
    "    GanttChart = []\n",
    "    waiting_time(remBt,q,wt,completTime,process,GanttChart)\n",
    "    turnarounTime(wt,dt,tAroundT)\n",
    "\n",
    "    totalTurnArounTime = 0\n",
    "    totalWaitingTime = 0\n",
    "\n",
    "    for i in range(len(remBt)):\n",
    "        totalTurnArounTime+=tAroundT[i]\n",
    "        totalWaitingTime+=wt[i]\n",
    "    print(\"Completion Time: \",completTime)\n",
    "    print(\"Turnaround Time: \",tAroundT)\n",
    "    print(\"Waiting Time: \",wt)\n",
    "    print(\"Average Turnaround Time: \",totalTurnArounTime/len(remBt))\n",
    "    print(\"Average Waiting Time: \",totalWaitingTime/len(remBt))\n",
    "    print(\"Gantt chart: \",' --> '.join(GanttChart))\n",
    "    "
   ]
  },
  {
   "cell_type": "markdown",
   "id": "255e8673-2b64-4029-9857-a4926468b0b9",
   "metadata": {},
   "source": [
    "# case 1"
   ]
  },
  {
   "cell_type": "code",
   "execution_count": 12,
   "id": "1c098586-b4dd-49a8-a9f3-e7a1a4461056",
   "metadata": {},
   "outputs": [
    {
     "name": "stdout",
     "output_type": "stream",
     "text": [
      "Completion Time:  [17, 13, 20]\n",
      "Turnaround Time:  [17, 13, 20]\n",
      "Waiting Time:  [10, 9, 11]\n",
      "Average Turnaround Time:  16.666666666666668\n",
      "Average Waiting Time:  10.0\n",
      "Gantt chart:  p1 --> p2 --> p3 --> p1 --> p2 --> p3 --> p1 --> p3\n"
     ]
    }
   ],
   "source": [
    "remBt=[7,4,9]\n",
    "process = ['p1','p2','p3']\n",
    "q = 3\n",
    "wt = [0]*len(remBt)\n",
    "avg(remBt,q,wt,process)"
   ]
  },
  {
   "cell_type": "markdown",
   "id": "7d2efbc3-87d3-4f5e-8560-6c51ab86f9d0",
   "metadata": {},
   "source": [
    "# case 4"
   ]
  },
  {
   "cell_type": "code",
   "execution_count": 14,
   "id": "efb517a2-2509-4bfc-ba86-d9056cc0daa0",
   "metadata": {},
   "outputs": [
    {
     "name": "stdout",
     "output_type": "stream",
     "text": [
      "Completion Time:  [7, 11, 20]\n",
      "Turnaround Time:  [7, 11, 20]\n",
      "Waiting Time:  [0, 7, 11]\n",
      "Average Turnaround Time:  12.666666666666666\n",
      "Average Waiting Time:  6.0\n",
      "Gantt chart:  p1 --> p2 --> p3\n"
     ]
    }
   ],
   "source": [
    "remBt=[7,4,9]\n",
    "process = ['p1','p2','p3']\n",
    "q = 9\n",
    "wt = [0]*len(remBt)\n",
    "avg(remBt,q,wt,process)"
   ]
  },
  {
   "cell_type": "markdown",
   "id": "3062cd7b-66a5-4684-8d86-d6ed9cf6515d",
   "metadata": {},
   "source": [
    "# case 2"
   ]
  },
  {
   "cell_type": "code",
   "execution_count": 16,
   "id": "7ce8dfe0-b25e-4631-8ca3-f665cdca23fa",
   "metadata": {},
   "outputs": [
    {
     "name": "stdout",
     "output_type": "stream",
     "text": [
      "Completion Time:  [17, 20, 16]\n",
      "Turnaround Time:  [17, 20, 16]\n",
      "Waiting Time:  [10, 11, 12]\n",
      "Average Turnaround Time:  17.666666666666668\n",
      "Average Waiting Time:  11.0\n",
      "Gantt chart:  p1 --> p2 --> p3 --> p1 --> p2 --> p3 --> p1 --> p2\n"
     ]
    }
   ],
   "source": [
    "remBt=[7,9,4]\n",
    "process = ['p1','p2','p3']\n",
    "q = 3\n",
    "wt = [0]*len(remBt)\n",
    "avg(remBt,q,wt,process)"
   ]
  },
  {
   "cell_type": "markdown",
   "id": "c42ad45f-beba-4b44-8ee7-87646064c1b7",
   "metadata": {},
   "source": [
    "# case 3"
   ]
  },
  {
   "cell_type": "code",
   "execution_count": 18,
   "id": "525142b3-c9a8-4137-acd2-7f7a94f343b0",
   "metadata": {},
   "outputs": [
    {
     "name": "stdout",
     "output_type": "stream",
     "text": [
      "Completion Time:  [10, 17, 20]\n",
      "Turnaround Time:  [10, 17, 20]\n",
      "Waiting Time:  [6, 10, 11]\n",
      "Average Turnaround Time:  15.666666666666666\n",
      "Average Waiting Time:  9.0\n",
      "Gantt chart:  p1 --> p2 --> p3 --> p1 --> p2 --> p3 --> p2 --> p3\n"
     ]
    }
   ],
   "source": [
    "remBt=[4,7,9]\n",
    "process = ['p1','p2','p3']\n",
    "q = 3\n",
    "wt = [0]*len(remBt)\n",
    "avg(remBt,q,wt,process)"
   ]
  },
  {
   "cell_type": "markdown",
   "id": "3a4dfd4e-95e0-4738-8de5-1da38901135d",
   "metadata": {},
   "source": [
    "# case 5"
   ]
  },
  {
   "cell_type": "code",
   "execution_count": 20,
   "id": "c6cd73ab-8c5e-4876-a5b0-dc1bb372c556",
   "metadata": {},
   "outputs": [
    {
     "name": "stdout",
     "output_type": "stream",
     "text": [
      "Completion Time:  [19, 20, 16]\n",
      "Turnaround Time:  [19, 20, 16]\n",
      "Waiting Time:  [10, 13, 12]\n",
      "Average Turnaround Time:  18.333333333333332\n",
      "Average Waiting Time:  11.666666666666666\n",
      "Gantt chart:  p1 --> p2 --> p3 --> p1 --> p2 --> p3 --> p1 --> p2\n"
     ]
    }
   ],
   "source": [
    "remBt=[9,7,4]\n",
    "process = ['p1','p2','p3']\n",
    "q = 3\n",
    "wt = [0]*len(remBt)\n",
    "avg(remBt,q,wt,process)"
   ]
  },
  {
   "cell_type": "markdown",
   "id": "fef439e9-9261-486f-bde4-5ccf167c2e65",
   "metadata": {},
   "source": [
    "# Improvement on the algorithm"
   ]
  },
  {
   "cell_type": "code",
   "execution_count": 33,
   "id": "476f0aa1-0cf7-4aae-b12a-4d5dea605898",
   "metadata": {},
   "outputs": [],
   "source": [
    "def sortp(proses , bt):\n",
    "    s = 0\n",
    "    pr = ''\n",
    "    for i in range(len(bt)-1):\n",
    "        for j in range(i+1,len(bt)):\n",
    "            if bt[i]>bt[j]:\n",
    "                pr = proses[i]\n",
    "                s = bt[i]\n",
    "                proses[i] = proses[j]\n",
    "                bt[i] = bt[j]\n",
    "                proses[j] = pr\n",
    "                bt[j] = s"
   ]
  },
  {
   "cell_type": "code",
   "execution_count": 39,
   "id": "283185a5-42f8-4ebb-8ba8-e5f6f756cca6",
   "metadata": {},
   "outputs": [],
   "source": [
    "def meanRemBT(bt):\n",
    "    total = 0\n",
    "    for i in range(len(bt)):\n",
    "        total+=bt[i]\n",
    "    return total // len(bt)     "
   ]
  },
  {
   "cell_type": "markdown",
   "id": "26ece7c8-ab0c-475f-b6e6-b1314145b1da",
   "metadata": {},
   "source": [
    "# test Improvement on the algorithm"
   ]
  },
  {
   "cell_type": "code",
   "execution_count": 41,
   "id": "6416a489-379e-4de5-a608-dd44a9315245",
   "metadata": {},
   "outputs": [
    {
     "name": "stdout",
     "output_type": "stream",
     "text": [
      "Completion Time:  [4, 17, 20]\n",
      "Turnaround Time:  [4, 17, 20]\n",
      "Waiting Time:  [0, 10, 11]\n",
      "Average Turnaround Time:  13.666666666666666\n",
      "Average Waiting Time:  7.0\n",
      "Gantt chart:  p3 --> p2 --> p1 --> p2 --> p1\n"
     ]
    }
   ],
   "source": [
    "remBt=[9,7,4]\n",
    "process = ['p1','p2','p3']\n",
    "sortp(process , remBt)\n",
    "q = meanRemBT(remBt)\n",
    "wt = [0]*len(remBt)\n",
    "avg(remBt,q,wt,process)"
   ]
  }
 ],
 "metadata": {
  "kernelspec": {
   "display_name": "Python 3 (ipykernel)",
   "language": "python",
   "name": "python3"
  },
  "language_info": {
   "codemirror_mode": {
    "name": "ipython",
    "version": 3
   },
   "file_extension": ".py",
   "mimetype": "text/x-python",
   "name": "python",
   "nbconvert_exporter": "python",
   "pygments_lexer": "ipython3",
   "version": "3.12.4"
  }
 },
 "nbformat": 4,
 "nbformat_minor": 5
}
